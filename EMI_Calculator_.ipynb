{
  "nbformat": 4,
  "nbformat_minor": 0,
  "metadata": {
    "colab": {
      "provenance": [],
      "authorship_tag": "ABX9TyN0eIFL71m8Whs/qSxkRHL3",
      "include_colab_link": true
    },
    "kernelspec": {
      "name": "python3",
      "display_name": "Python 3"
    },
    "language_info": {
      "name": "python"
    }
  },
  "cells": [
    {
      "cell_type": "markdown",
      "metadata": {
        "id": "view-in-github",
        "colab_type": "text"
      },
      "source": [
        "<a href=\"https://colab.research.google.com/github/shahzaibparacha10-hash/Python_Class/blob/main/EMI_Calculator_.ipynb\" target=\"_parent\"><img src=\"https://colab.research.google.com/assets/colab-badge.svg\" alt=\"Open In Colab\"/></a>"
      ]
    },
    {
      "cell_type": "code",
      "execution_count": null,
      "metadata": {
        "colab": {
          "base_uri": "https://localhost:8080/"
        },
        "id": "neq4KKR38JG0",
        "outputId": "84bdfd99-5b70-44b5-ef82-047d1bc44f86"
      },
      "outputs": [
        {
          "output_type": "stream",
          "name": "stdout",
          "text": [
            "====================================\n",
            " Welcome To CA2 Loan EMI Calculator \n",
            "====================================\n",
            "Enter Your Name: Shahzaib Paracha\n",
            "Enter Your Loan Amount: 1000000\n",
            "Enter Your Annual Interest Rate: 10\n",
            "Enter Your Loan Tenure: 5\n",
            "\n",
            "---Input Summary---\n",
            "Borrower's Name: Shahzaib Paracha\n",
            "Loan Amount In Rupees: 1000000.0\n",
            "Annual Interest Rate In Percentage: 10.0\n",
            "Loan Tenure In Year: 5.0\n",
            "\n",
            "---Borrower Details---\n",
            "Shahzaib Paracha has applied for a loan.\n",
            "\n",
            "============================================\n",
            " Loan Repayment Summary For Shahzaib Paracha \n",
            "==============================================\n",
            " Loan Amount: 1000000.0\n",
            " Annual Interest Rate: 10.0\n",
            " Loan Tenure: 5.0\n",
            " Monthly Interest Rate: 0.008333333333333333\n",
            " EMI: 21247.044711268332\n",
            " Total Payment: 1274822.6826761\n",
            " Total Interest: 274822.68267609994\n",
            "\n",
            " Thank You For Using CA2 EMI Calculator\n"
          ]
        }
      ],
      "source": [
        "# Step 1: WELCOME SCREEN\n",
        "\n",
        "print(\"====================================\")\n",
        "print(\" Welcome To CA2 Loan EMI Calculator \")\n",
        "print(\"====================================\")\n",
        "\n",
        "# Step 2: Input (With Type Casting)\n",
        "# Borrower's Name\n",
        "Borrower_Name = input(\"Enter Your Name: \")\n",
        "\n",
        "#Loan Amount (Float)\n",
        "Loan_Amount = float(input(\"Enter Your Loan Amount: \"))\n",
        "\n",
        "#Annual Interest Rate (in %)\n",
        "Annual_Interest_Rate = float(input(\"Enter Your Annual Interest Rate: \"))\n",
        "\n",
        "#Loan Tenure (in years)\n",
        "Loan_Tenure = float(input(\"Enter Your Loan Tenure: \"))\n",
        "\n",
        "print(\"\\n---Input Summary---\")\n",
        "print(\"Borrower's Name:\", Borrower_Name)\n",
        "print(\"Loan Amount In Rupees:\", Loan_Amount)\n",
        "print(\"Annual Interest Rate In Percentage:\", Annual_Interest_Rate)\n",
        "print(\"Loan Tenure In Year:\", Loan_Tenure)\n",
        "\n",
        "# Step 3: Processing\n",
        "# Convert Annual Interest Rate To Monthly Rate\n",
        "Monthly_Interest_Rate = Annual_Interest_Rate / 12 / 100\n",
        "\n",
        "# Convert Years To Months\n",
        "Loan_Tenure_Months = Loan_Tenure * 12\n",
        "\n",
        "# Formula: EMI = [P*R*(1+R)^N]/[(1+R)^N-1]\n",
        "EMI = (Loan_Amount * Monthly_Interest_Rate * (1 + Monthly_Interest_Rate) ** Loan_Tenure_Months) / ((1 + Monthly_Interest_Rate) ** Loan_Tenure_Months - 1)\n",
        "\n",
        "# Step 4: String Handling\n",
        "My_Name = Borrower_Name # Store Borrower's Name\n",
        "\n",
        "print(\"\\n---Borrower Details---\")\n",
        "print(f\"{Borrower_Name} has applied for a loan.\")\n",
        "\n",
        "# Step 5: Final Output\n",
        "Total_Payment = EMI*Loan_Tenure_Months\n",
        "Total_Interest = Total_Payment - Loan_Amount\n",
        "\n",
        "print(\"\\n============================================\")\n",
        "print(f\" Loan Repayment Summary For {Borrower_Name} \")\n",
        "print(\"==============================================\")\n",
        "print(f\" Loan Amount: {Loan_Amount}\")\n",
        "print(f\" Annual Interest Rate: {Annual_Interest_Rate}\")\n",
        "print(f\" Loan Tenure: {Loan_Tenure}\")\n",
        "print(f\" Monthly Interest Rate: {Monthly_Interest_Rate}\")\n",
        "print(f\" EMI: {EMI}\")\n",
        "print(f\" Total Payment: {Total_Payment}\")\n",
        "print(f\" Total Interest: {Total_Interest}\")\n",
        "print(\"\\n Thank You For Using CA2 EMI Calculator\")"
      ]
    },
    {
      "cell_type": "code",
      "source": [],
      "metadata": {
        "id": "4pgXrJ2eFPhC"
      },
      "execution_count": null,
      "outputs": []
    }
  ]
}