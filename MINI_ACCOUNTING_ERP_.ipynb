{
  "nbformat": 4,
  "nbformat_minor": 0,
  "metadata": {
    "colab": {
      "provenance": [],
      "authorship_tag": "ABX9TyOIx6ZNxY4sDqKTrYHgtg/G",
      "include_colab_link": true
    },
    "kernelspec": {
      "name": "python3",
      "display_name": "Python 3"
    },
    "language_info": {
      "name": "python"
    }
  },
  "cells": [
    {
      "cell_type": "markdown",
      "metadata": {
        "id": "view-in-github",
        "colab_type": "text"
      },
      "source": [
        "<a href=\"https://colab.research.google.com/github/shahzaibparacha10-hash/Python_Class/blob/main/MINI_ACCOUNTING_ERP_.ipynb\" target=\"_parent\"><img src=\"https://colab.research.google.com/assets/colab-badge.svg\" alt=\"Open In Colab\"/></a>"
      ]
    },
    {
      "cell_type": "code",
      "source": [
        "# Cell 1 — Setup (run this first every time)\n",
        "\n",
        "from datetime import datetime\n",
        "\n",
        "# 1) Define chart of accounts with simple types\n",
        "ACCOUNTS = {\n",
        "    \"Cash\": \"Asset\",\n",
        "    \"Bank\": \"Asset\",\n",
        "    \"Accounts Receivable\": \"Asset\",\n",
        "    \"Inventory\": \"Asset\",\n",
        "    \"Accounts Payable\": \"Liability\",\n",
        "    \"Capital\": \"Equity\",\n",
        "    \"Sales\": \"Income\",\n",
        "    \"Purchase\": \"Expense\",\n",
        "    \"Rent Expense\": \"Expense\",\n",
        "    \"Utilities Expense\": \"Expense\",\n",
        "}\n",
        "\n",
        "# 2) Create the 'book' (balances + ledger lines)\n",
        "# Each account keeps total debits, total credits, and a simple ledger list\n",
        "book = {\n",
        "    name: {\n",
        "        \"type\": ACCOUNTS[name],\n",
        "        \"debits\": 0.0,\n",
        "        \"credits\": 0.0,\n",
        "        \"ledger\": []  # each item: {\"date\": date, \"narration\": str, \"debit\": float, \"credit\": float}\n",
        "    }\n",
        "    for name in ACCOUNTS\n",
        "}\n",
        "\n",
        "def normal_side(account_type):\n",
        "    # Assets & Expenses are debit-normal; others credit-normal\n",
        "    return \"debit\" if account_type in (\"Asset\", \"Expense\") else \"credit\"\n",
        "\n",
        "def account_balance(name):\n",
        "    \"\"\"Return balance respecting account's normal side.\"\"\"\n",
        "    rec = book[name]\n",
        "    if normal_side(rec[\"type\"]) == \"debit\":\n",
        "        return rec[\"debits\"] - rec[\"credits\"]   # Dr balance\n",
        "    else:\n",
        "        return rec[\"credits\"] - rec[\"debits\"]   # Cr balance\n",
        "\n",
        "def post_line(name, date, narration, debit=0.0, credit=0.0):\n",
        "    \"\"\"Post one ledger line and update totals (no validation here).\"\"\"\n",
        "    rec = book[name]\n",
        "    rec[\"debits\"]  += float(debit)\n",
        "    rec[\"credits\"] += float(credit)\n",
        "    rec[\"ledger\"].append({\n",
        "        \"date\": date,\n",
        "        \"narration\": narration,\n",
        "        \"debit\": round(float(debit), 2),\n",
        "        \"credit\": round(float(credit), 2),\n",
        "    })\n",
        "\n",
        "print(\"Setup complete. Accounts loaded.\")\n"
      ],
      "metadata": {
        "colab": {
          "base_uri": "https://localhost:8080/"
        },
        "id": "Tr4SArYMn73e",
        "outputId": "1ccaba26-4c27-4f26-d339-113657dcfcf3"
      },
      "execution_count": 16,
      "outputs": [
        {
          "output_type": "stream",
          "name": "stdout",
          "text": [
            "Setup complete. Accounts loaded.\n"
          ]
        }
      ]
    },
    {
      "cell_type": "code",
      "source": [
        "# Cell 2 — Show accounts\n",
        "\n",
        "print(\"===== Chart of Accounts =====\")\n",
        "for name, rec in book.items():\n",
        "    print(f\"{name:<24}  ({rec['type']})\")\n"
      ],
      "metadata": {
        "colab": {
          "base_uri": "https://localhost:8080/"
        },
        "id": "SrFIW6sDoObv",
        "outputId": "b2ce067c-ddff-432d-cc20-3d8fe3a76f0a"
      },
      "execution_count": 17,
      "outputs": [
        {
          "output_type": "stream",
          "name": "stdout",
          "text": [
            "===== Chart of Accounts =====\n",
            "Cash                      (Asset)\n",
            "Bank                      (Asset)\n",
            "Accounts Receivable       (Asset)\n",
            "Inventory                 (Asset)\n",
            "Accounts Payable          (Liability)\n",
            "Capital                   (Equity)\n",
            "Sales                     (Income)\n",
            "Purchase                  (Expense)\n",
            "Rent Expense              (Expense)\n",
            "Utilities Expense         (Expense)\n"
          ]
        }
      ]
    },
    {
      "cell_type": "code",
      "source": [
        "# Cell 3 — Post one simple journal (1 debit + 1 credit)\n",
        "\n",
        "# Tip: use exact account names shown in Cell 2 (e.g., Cash, Sales, Rent Expense)\n",
        "\n",
        "date_str = input(\"Date (YYYY-MM-DD) [Enter for today]: \").strip()\n",
        "date = datetime.today().date() if date_str == \"\" else datetime.strptime(date_str, \"%Y-%m-%d\").date()\n",
        "\n",
        "narration = input(\"Narration (e.g., Cash Sales): \").strip() or \"General Entry\"\n",
        "\n",
        "debit_acc = input(\"Debit account: \").strip()\n",
        "credit_acc = input(\"Credit account: \").strip()\n",
        "\n",
        "if debit_acc not in book or credit_acc not in book:\n",
        "    print(\"❌ Invalid account name. Re-run this cell and use names from the Chart of Accounts.\")\n",
        "else:\n",
        "    try:\n",
        "        amount = float(input(\"Amount (e.g., 15000): \").strip())\n",
        "        if amount <= 0:\n",
        "            print(\"❌ Amount must be positive.\")\n",
        "        else:\n",
        "            # Post: Dr <debit_acc>, Cr <credit_acc>\n",
        "            post_line(debit_acc, date, narration, debit=amount, credit=0.0)\n",
        "            post_line(credit_acc, date, narration, debit=0.0, credit=amount)\n",
        "            print(f\"✅ Posted: {narration} | {date}\")\n",
        "            print(f\"   Dr {debit_acc} {amount:.2f} | Cr {credit_acc} {amount:.2f}\")\n",
        "    except ValueError:\n",
        "        print(\"❌ Invalid amount. Re-run and enter a number.\")\n"
      ],
      "metadata": {
        "id": "8k8n9O3moTfX"
      },
      "execution_count": null,
      "outputs": []
    },
    {
      "cell_type": "code",
      "source": [
        "# Cell 4 — Trial Balance\n",
        "\n",
        "print(\"========== Trial Balance ==========\")\n",
        "print(f\"{'Account':<24} {'Debit':>12} {'Credit':>12}\")\n",
        "print(\"-\"*50)\n",
        "\n",
        "total_dr = total_cr = 0.0\n",
        "for name, rec in book.items():\n",
        "    bal = account_balance(name)\n",
        "\n",
        "    # Show on normal side when positive (opposite if negative)\n",
        "    if bal > 0:\n",
        "        if normal_side(rec[\"type\"]) == \"debit\":\n",
        "            dr, cr = bal, 0.0\n",
        "        else:\n",
        "            dr, cr = 0.0, bal\n",
        "    elif bal < 0:\n",
        "        bal = abs(bal)\n",
        "        if normal_side(rec[\"type\"]) == \"debit\":\n",
        "            dr, cr = 0.0, bal\n",
        "        else:\n",
        "            dr, cr = bal, 0.0\n",
        "    else:\n",
        "        dr = cr = 0.0\n",
        "\n",
        "    if dr or cr:\n",
        "        print(f\"{name:<24} {dr:>12.2f} {cr:>12.2f}\")\n",
        "        total_dr += dr\n",
        "        total_cr += cr\n",
        "\n",
        "print(\"-\"*50)\n",
        "print(f\"{'TOTAL':<24} {total_dr:>12.2f} {total_cr:>12.2f}\")\n",
        "print(\"✅ Balanced\" if round(total_dr,2)==round(total_cr,2) else \"❌ NOT Balanced\")\n"
      ],
      "metadata": {
        "id": "y7Bf4oF3opLx"
      },
      "execution_count": null,
      "outputs": []
    },
    {
      "cell_type": "code",
      "source": [
        "# Cell 5 — Ledger statement for one account\n",
        "\n",
        "acc = input(\"Ledger — enter exact account name (e.g., Cash): \").strip()\n",
        "if acc not in book:\n",
        "    print(\"❌ Account not found. Re-run and type exactly as shown in Chart of Accounts.\")\n",
        "else:\n",
        "    rec = book[acc]\n",
        "    side = normal_side(rec[\"type\"])\n",
        "    lines = sorted(rec[\"ledger\"], key=lambda x: x[\"date\"])\n",
        "\n",
        "    print(f\"\\n===== Ledger: {acc} ({rec['type']}) =====\")\n",
        "    print(f\"{'Date':<12} {'Narration':<28} {'Debit':>10} {'Credit':>10} {'Balance':>12}\")\n",
        "    print(\"-\"*75)\n",
        "\n",
        "    running = 0.0\n",
        "    for l in lines:\n",
        "        if side == \"debit\":\n",
        "            running += (l[\"debit\"] - l[\"credit\"])\n",
        "            bal_val = abs(running)\n",
        "            bal_side = \"Dr\" if running >= 0 else \"Cr\"\n",
        "        else:\n",
        "            running += (l[\"credit\"] - l[\"debit\"])\n",
        "            bal_val = abs(running)\n",
        "            bal_side = \"Cr\" if running >= 0 else \"Dr\"\n",
        "\n",
        "        print(f\"{l['date']}  {l['narration'][:27]:<28} {l['debit']:>10.2f} {l['credit']:>10.2f} {bal_val:>9.2f} {bal_side}\")\n"
      ],
      "metadata": {
        "id": "vwaZc-OcozB-"
      },
      "execution_count": null,
      "outputs": []
    },
    {
      "cell_type": "code",
      "source": [
        "# Cell 6 — Profit & Loss\n",
        "\n",
        "income = expense = 0.0\n",
        "for name, rec in book.items():\n",
        "    if rec[\"type\"] == \"Income\":\n",
        "        income += (rec[\"credits\"] - rec[\"debits\"])   # credit-normal\n",
        "    elif rec[\"type\"] == \"Expense\":\n",
        "        expense += (rec[\"debits\"] - rec[\"credits\"])  # debit-normal\n",
        "\n",
        "net = income - expense\n",
        "\n",
        "print(\"\\n========== Profit & Loss ==========\")\n",
        "print(f\"Total Income : {income:>12.2f}\")\n",
        "print(f\"Total Expense: {expense:>12.2f}\")\n",
        "print(\"-\"*30)\n",
        "if net >= 0:\n",
        "    print(f\"Net Profit   : {net:>12.2f} (Credit → adds to Equity)\")\n",
        "else:\n",
        "    print(f\"Net Loss     : {abs(net):>12.2f} (Debit  → reduces Equity)\")\n"
      ],
      "metadata": {
        "id": "clJu0ndro49m"
      },
      "execution_count": null,
      "outputs": []
    },
    {
      "cell_type": "code",
      "source": [
        "# Cell 7 — Balance Sheet (includes current period P&L as retained earnings effect)\n",
        "\n",
        "# 1) Compute P&L for retained earnings\n",
        "income = expense = 0.0\n",
        "for name, rec in book.items():\n",
        "    if rec[\"type\"] == \"Income\":\n",
        "        income += (rec[\"credits\"] - rec[\"debits\"])\n",
        "    elif rec[\"type\"] == \"Expense\":\n",
        "        expense += (rec[\"debits\"] - rec[\"credits\"])\n",
        "net_pl = income - expense  # profit (+equity) / loss (-equity)\n",
        "\n",
        "# 2) Sum balances by type\n",
        "assets = liabilities = equity = 0.0\n",
        "for name, rec in book.items():\n",
        "    bal = account_balance(name)\n",
        "    if rec[\"type\"] == \"Asset\":\n",
        "        assets += bal\n",
        "    elif rec[\"type\"] == \"Liability\":\n",
        "        liabilities += bal\n",
        "    elif rec[\"type\"] == \"Equity\":\n",
        "        equity += bal\n",
        "\n",
        "equity_total = equity + net_pl  # P&L flows into equity\n",
        "rhs = liabilities + equity_total\n",
        "\n",
        "print(\"\\n========== Balance Sheet ==========\")\n",
        "print(f\"Total Assets                 : {assets:>12.2f}\")\n",
        "print(f\"Total Liabilities            : {liabilities:>12.2f}\")\n",
        "print(f\"Equity (incl. Ret. Earnings) : {equity_total:>12.2f}\")\n",
        "print(\"-\"*40)\n",
        "print(f\"LHS (Assets)                 : {assets:>12.2f}\")\n",
        "print(f\"RHS (Liab + Equity)          : {rhs:>12.2f}\")\n",
        "print(\"✅ Balances\" if round(assets,2)==round(rhs,2) else \"❌ Does NOT balance\")\n"
      ],
      "metadata": {
        "id": "xwQEEaEuo9gE"
      },
      "execution_count": null,
      "outputs": []
    },
    {
      "cell_type": "code",
      "source": [
        "# Cell 8 — Seed demo data (no typing)\n",
        "\n",
        "today = datetime.today().date()\n",
        "\n",
        "# 1) Opening Capital: Cash Dr 100,000 / Capital Cr 100,000\n",
        "post_line(\"Cash\", today, \"Opening Capital\", debit=100000, credit=0)\n",
        "post_line(\"Capital\", today, \"Opening Capital\", debit=0, credit=100000)\n",
        "\n",
        "# 2) Inventory purchase (cash): Inventory Dr 20,000 / Cash Cr 20,000\n",
        "post_line(\"Inventory\", today, \"Inventory (cash)\", debit=20000, credit=0)\n",
        "post_line(\"Cash\", today, \"Inventory (cash)\", debit=0, credit=20000)\n",
        "\n",
        "# 3) Cash sales: Cash Dr 15,000 / Sales Cr 15,000\n",
        "post_line(\"Cash\", today, \"Cash Sales\", debit=15000, credit=0)\n",
        "post_line(\"Sales\", today, \"Cash Sales\", debit=0, credit=15000)\n",
        "\n",
        "# 4) Pay rent: Rent Expense Dr 8,000 / Cash Cr 8,000\n",
        "post_line(\"Rent Expense\", today, \"Monthly Rent\", debit=8000, credit=0)\n",
        "post_line(\"Cash\", today, \"Monthly Rent\", debit=0, credit=8000)\n",
        "\n",
        "print(\"✅ Demo transactions posted. Now run:\")\n",
        "print(\"   • Cell 4 (Trial Balance)\")\n",
        "print(\"   • Cell 5 (Ledger) — try Cash, Sales, Rent Expense\")\n",
        "print(\"   • Cell 6 (Profit & Loss)\")\n",
        "print(\"   • Cell 7 (Balance Sheet)\")\n"
      ],
      "metadata": {
        "id": "DPF-oDwepCBr"
      },
      "execution_count": null,
      "outputs": []
    }
  ]
}